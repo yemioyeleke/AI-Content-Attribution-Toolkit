{
  "cells": [
    {
      "cell_type": "markdown",
      "metadata": {
        "id": "TTzq0oeP-72K"
      },
      "source": [
        "# 🧠 AI Classifier - Annotating Human vs. AI Content\n",
        "This notebook builds a simple AI detector using Sentence Transformers and Logistic Regression."
      ],
      "id": "TTzq0oeP-72K"
    },
    {
      "cell_type": "code",
      "execution_count": null,
      "metadata": {
        "id": "2g7JRvgt-72N"
      },
      "outputs": [],
      "source": [
        "!pip install -U sentence-transformers scikit-learn"
      ],
      "id": "2g7JRvgt-72N"
    },
    {
      "cell_type": "code",
      "execution_count": null,
      "metadata": {
        "id": "LA-QyTW0-72O"
      },
      "outputs": [],
      "source": [
        "from sklearn.datasets import fetch_20newsgroups\n",
        "from sentence_transformers import SentenceTransformer\n",
        "from sklearn.linear_model import LogisticRegression\n",
        "from sklearn.model_selection import train_test_split\n",
        "from sklearn.metrics import classification_report, accuracy_score\n",
        "import matplotlib.pyplot as plt\n",
        "import numpy as np"
      ],
      "id": "LA-QyTW0-72O"
    },
    {
      "cell_type": "code",
      "execution_count": null,
      "metadata": {
        "id": "pDPvkrd9-72P"
      },
      "outputs": [],
      "source": [
        "# Load sample human-written news texts\n",
        "human_texts = fetch_20newsgroups(subset='train', remove=('headers', 'footers', 'quotes')).data[:200]\n",
        "\n",
        "# Simulate AI-generated texts\n",
        "ai_texts = [\"Artificial intelligence is transforming industries through automation and prediction.\" for _ in range(200)]\n",
        "\n",
        "# Combine and label\n",
        "texts = human_texts + ai_texts\n",
        "labels = [0]*len(human_texts) + [1]*len(ai_texts)  # 0 = Human, 1 = AI"
      ],
      "id": "pDPvkrd9-72P"
    },
    {
      "cell_type": "code",
      "execution_count": null,
      "metadata": {
        "id": "Vhzygvc2-72Q"
      },
      "outputs": [],
      "source": [
        "# Load sentence transformer model and generate embeddings\n",
        "model = SentenceTransformer('all-MiniLM-L6-v2')\n",
        "embeddings = model.encode(texts, show_progress_bar=True)"
      ],
      "id": "Vhzygvc2-72Q"
    },
    {
      "cell_type": "code",
      "execution_count": null,
      "metadata": {
        "id": "_zHyMGVp-72Q"
      },
      "outputs": [],
      "source": [
        "# Train-test split and train logistic regression\n",
        "X_train, X_test, y_train, y_test = train_test_split(embeddings, labels, test_size=0.2, random_state=42)\n",
        "clf = LogisticRegression(max_iter=1000)\n",
        "clf.fit(X_train, y_train)"
      ],
      "id": "_zHyMGVp-72Q"
    },
    {
      "cell_type": "code",
      "execution_count": null,
      "metadata": {
        "id": "jTM51VJV-72R",
        "collapsed": true
      },
      "outputs": [],
      "source": [
        "# Evaluate\n",
        "y_pred = clf.predict(X_test)\n",
        "accuracy = accuracy_score(y_test, y_pred)\n",
        "print(f\"Accuracy: {accuracy:.2f}\")\n",
        "print(\"\\nClassification Report:\")\n",
        "print(classification_report(y_test, y_pred, target_names=[\"Human\", \"AI\"]))"
      ],
      "id": "jTM51VJV-72R"
    },
    {
      "cell_type": "code",
      "execution_count": null,
      "metadata": {
        "id": "sIaR6S6Z-72S"
      },
      "outputs": [],
      "source": [
        "# Try your own text\n",
        "your_text = \"Data science enables businesses to make better decisions.\"\n",
        "your_embedding = model.encode([your_text])\n",
        "prediction = clf.predict(your_embedding)[0]\n",
        "print(\"Prediction:\", \"AI-Generated\" if prediction == 1 else \"Human-Written\")"
      ],
      "id": "sIaR6S6Z-72S"
    },
    {
      "cell_type": "markdown",
      "source": [
        "# ⚠️ **CAUTION: Heuristic AI Content Classifier**\n",
        "\n",
        "This method is **simple**, **interpretable**, and useful for **quick experimentation**, but it's important to be aware of its **limitations**:\n",
        "\n",
        "- ❌ **Not trained or fine-tuned on labeled attribution data**  \n",
        "- 🎯 **Not reliable at scale** — should not be used for high-stakes decisions  \n",
        "- 🔁 **Vulnerable to paraphrasing or rewording tricks**  \n",
        "- 🌍 **Language-specific** — performance can vary across languages or domains\n",
        "\n",
        "---\n",
        "\n",
        "## ✅ **When It’s Useful**\n",
        "\n",
        "- Quick **proof-of-concept** development  \n",
        "- Demonstrating basic **AI vs. Human text differences**  \n",
        "- **Educational use** for understanding attribution logic  \n",
        "- Projects where **speed and transparency** matter more than precision  \n",
        "- Serving as a **fallback or sanity check** alongside more advanced models\n",
        "\n",
        "---\n",
        "\n",
        "## ✅ **Suggested Best Practices**\n",
        "\n",
        "- Use it as a **lightweight baseline**, not as a definitive judgment tool  \n",
        "- Regularly **test against known edge cases** like paraphrased or translated inputs  \n",
        "- Be cautious in **non-English** or domain-specific use cases — results may degrade  \n",
        "- Always follow up with **human-in-the-loop review** before taking action\n",
        "\n"
      ],
      "metadata": {
        "id": "LvmRPBOiy3m3"
      },
      "id": "LvmRPBOiy3m3"
    }
  ],
  "metadata": {
    "kernelspec": {
      "display_name": "Python 3",
      "language": "python",
      "name": "python3"
    },
    "language_info": {
      "name": "python",
      "version": "3.9"
    },
    "colab": {
      "provenance": []
    }
  },
  "nbformat": 4,
  "nbformat_minor": 5
}